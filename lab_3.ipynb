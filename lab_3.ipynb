{
  "nbformat": 4,
  "nbformat_minor": 0,
  "metadata": {
    "colab": {
      "provenance": [],
      "authorship_tag": "ABX9TyOSvwcfclJlZ5TPobBThYMC",
      "include_colab_link": true
    },
    "kernelspec": {
      "name": "python3",
      "display_name": "Python 3"
    },
    "language_info": {
      "name": "python"
    }
  },
  "cells": [
    {
      "cell_type": "markdown",
      "metadata": {
        "id": "view-in-github",
        "colab_type": "text"
      },
      "source": [
        "<a href=\"https://colab.research.google.com/github/PRITOM360/function/blob/main/lab_3.ipynb\" target=\"_parent\"><img src=\"https://colab.research.google.com/assets/colab-badge.svg\" alt=\"Open In Colab\"/></a>"
      ]
    },
    {
      "cell_type": "code",
      "source": [
        "# Task 1\n",
        "class DataType:\n",
        "    def __init__(self, name, value):\n",
        "        self.name = name\n",
        "        self.value = value\n",
        "data_type1 = DataType( 'Integer', 1234)\n",
        "print(data_type1.name)\n",
        "print(data_type1.value)\n",
        "print('=====================')\n",
        "data_type2 = DataType('String', 'Hello')\n",
        "print(data_type2.name)\n",
        "print(data_type2.value)\n",
        "print('=====================')\n",
        "data_type3 = DataType('Float', 4.0)\n",
        "print(data_type3.name)\n",
        "print(data_type3.value)"
      ],
      "metadata": {
        "colab": {
          "base_uri": "https://localhost:8080/"
        },
        "id": "JKR0vcSQebVw",
        "outputId": "9eb3819f-c1fa-419c-a0a4-2f5d0348853d"
      },
      "execution_count": 32,
      "outputs": [
        {
          "output_type": "stream",
          "name": "stdout",
          "text": [
            "Integer\n",
            "1234\n",
            "=====================\n",
            "String\n",
            "Hello\n",
            "=====================\n",
            "Float\n",
            "4.0\n"
          ]
        }
      ]
    },
    {
      "cell_type": "code",
      "source": [
        "# Task 2\n",
        "class Joker:\n",
        "    def __init__(self, name, power, is_he_psycho):\n",
        "        self.name = name\n",
        "        self.power = power\n",
        "        self.is_he_psycho = is_he_psycho\n",
        "\n",
        "j1 = Joker('Heath Ledger', 'Mind Game', False)\n",
        "print(j1.name)\n",
        "print(j1.power)\n",
        "print(j1.is_he_psycho)\n",
        "print(\"=====================\")\n",
        "j2 = Joker('Joaquin Phoenix', 'Laughing out Loud', True)\n",
        "print(j2.name)\n",
        "print(j2.power)\n",
        "print(j2.is_he_psycho)\n",
        "print(\"=====================\")\n",
        "if j1 == j2:\n",
        "    print('same')\n",
        "else:\n",
        "    print('different')\n",
        "j2.name = 'Heath Ledger'\n",
        "if j1.name == j2.name:\n",
        "    print('same')\n",
        "else:\n",
        "    print('different')"
      ],
      "metadata": {
        "colab": {
          "base_uri": "https://localhost:8080/"
        },
        "id": "1bHGMbLmebF3",
        "outputId": "a1dc2537-574f-4b23-8aba-63ab30f7071a"
      },
      "execution_count": 30,
      "outputs": [
        {
          "output_type": "stream",
          "name": "stdout",
          "text": [
            "Heath Ledger\n",
            "Mind Game\n",
            "False\n",
            "=====================\n",
            "Joaquin Phoenix\n",
            "Laughing out Loud\n",
            "True\n",
            "=====================\n",
            "different\n",
            "same\n"
          ]
        }
      ]
    },
    {
      "cell_type": "code",
      "source": [
        "# Task 3\n",
        "class Pokemon:\n",
        "    def __init__(self, pokemon1_name, pokemon2_name, pokemon1_power, pokemon2_power, damage_rate):\n",
        "        self.pokemon1_name = pokemon1_name\n",
        "        self.pokemon2_name = pokemon2_name\n",
        "        self.pokemon1_power = pokemon1_power\n",
        "        self.pokemon2_power = pokemon2_power\n",
        "        self.damage_rate = damage_rate\n",
        "\n",
        "team_pika = Pokemon('pikachu', 'charmander', 90, 60, 10)\n",
        "team_pika1 = Pokemon('bulbasaur', 'squirtle', 80, 70, 9)\n",
        "\n",
        "print('=======Team 1=======')\n",
        "print('Pokemon 1:',team_pika.pokemon1_name, team_pika.pokemon1_power)\n",
        "print('Pokemon 2:',team_pika.pokemon2_name, team_pika.pokemon2_power)\n",
        "pika_combined_power = (team_pika.pokemon1_power + team_pika.pokemon2_power) * team_pika.damage_rate\n",
        "print('Combined Power:', pika_combined_power)\n",
        "\n",
        "print('=======Team 2=======')\n",
        "print('Pokemon 1:',team_pika1.pokemon1_name, team_pika1.pokemon1_power)\n",
        "print('Pokemon 2:',team_pika1.pokemon2_name, team_pika1.pokemon2_power)\n",
        "pika_combined_power = (team_pika1.pokemon1_power + team_pika1.pokemon2_power) * team_pika1.damage_rate\n",
        "print('Combined Power:', pika_combined_power)"
      ],
      "metadata": {
        "colab": {
          "base_uri": "https://localhost:8080/"
        },
        "id": "W-PPvjGreZy5",
        "outputId": "e6736e10-5203-467a-d985-2eb9fea58c94"
      },
      "execution_count": 31,
      "outputs": [
        {
          "output_type": "stream",
          "name": "stdout",
          "text": [
            "=======Team 1=======\n",
            "Pokemon 1: pikachu 90\n",
            "Pokemon 2: charmander 60\n",
            "Combined Power: 1500\n",
            "=======Team 2=======\n",
            "Pokemon 1: bulbasaur 80\n",
            "Pokemon 2: squirtle 70\n",
            "Combined Power: 1350\n"
          ]
        }
      ]
    },
    {
      "cell_type": "code",
      "source": [
        "# Task 4\n",
        "class Country:\n",
        "  def __init__(self):\n",
        "    self.name = \"Bangladesh\"\n",
        "    self.continent = \"Asia\"\n",
        "    self.capital = \"Dhaka\"\n",
        "    self.fifa_ranking = 187\n",
        "\n",
        "country = Country()\n",
        "print('Name:',country.name)\n",
        "print('Continent:',country.continent)\n",
        "print('Capital:',country.capital)\n",
        "print('Fifa Ranking:',country.fifa_ranking)\n",
        "print('===================')\n",
        "country.name = \"Belgium\"\n",
        "country.continent = \"Europe\"\n",
        "country.capital = \"Brussels\"\n",
        "country.fifa_ranking = 1\n",
        "print('Name:',country.name)\n",
        "print('Continent:',country.continent)\n",
        "print('Capital:',country.capital)\n",
        "print('Fifa Ranking:',country.fifa_ranking)\n"
      ],
      "metadata": {
        "colab": {
          "base_uri": "https://localhost:8080/"
        },
        "id": "i8wtWqZyirvj",
        "outputId": "35a9a80d-418f-4135-e571-718a107cfc73"
      },
      "execution_count": null,
      "outputs": [
        {
          "output_type": "stream",
          "name": "stdout",
          "text": [
            "Name: Bangladesh\n",
            "Continent: Asia\n",
            "Capital: Dhaka\n",
            "Fifa Ranking: 187\n",
            "===================\n",
            "Name: Belgium\n",
            "Continent: Europe\n",
            "Capital: Brussels\n",
            "Fifa Ranking: 1\n"
          ]
        }
      ]
    },
    {
      "cell_type": "code",
      "source": [
        "# Task 5\n",
        "class DemonSlayer:\n",
        "  def __init__(self, name, style, number_of_technique, kill):\n",
        "    self.name = name\n",
        "    self.style = style\n",
        "    self.number_of_technique = number_of_technique\n",
        "    self.kill = kill\n",
        "\n",
        "tanjiro = DemonSlayer(\"Tanjiro\", \"Water Breathing\", 10, 10)\n",
        "zenitsu = DemonSlayer(\"Zenitsu\", \"Thunder Breathing\", 1, 4)\n",
        "inosuke = DemonSlayer(\"Inosuke\", \"Beast Breathing\", 5, 7)\n",
        "\n",
        "print('Name:',tanjiro.name)\n",
        "print('Fighting Style:',tanjiro.style)\n",
        "print(f'Knows {tanjiro.number_of_technique} technique(s) and has killed {tanjiro.kill} demon(s)')\n",
        "print('===================')\n",
        "print('Name:',zenitsu.name)\n",
        "print('Fighting Style:',zenitsu.style)\n",
        "print(f'Knows {zenitsu.number_of_technique} technique(s) and has killed {zenitsu.kill} demon(s)')\n",
        "print('===================')\n",
        "print('Name:',inosuke.name)\n",
        "print('Fighting Style:',inosuke.style)\n",
        "print(f'Knows {inosuke.number_of_technique} technique(s) and has killed {inosuke.kill} demon(s)')\n",
        "print('===================')\n",
        "print(f'{tanjiro.name}, {zenitsu.name}, {inosuke.name} knows total {tanjiro.number_of_technique + zenitsu.number_of_technique + inosuke.number_of_technique} techniques')\n",
        "print(f'They have killed total {tanjiro.kill + zenitsu.kill + inosuke.kill} demons')\n"
      ],
      "metadata": {
        "colab": {
          "base_uri": "https://localhost:8080/"
        },
        "id": "OraXh0KCn2BW",
        "outputId": "0a1fc221-a363-402b-edc2-db7d8fae795b"
      },
      "execution_count": null,
      "outputs": [
        {
          "output_type": "stream",
          "name": "stdout",
          "text": [
            "Name: Tanjiro\n",
            "Fighting Style: Water Breathing\n",
            "Knows 10 technique(s) and has killed 10 demon(s)\n",
            "===================\n",
            "Name: Zenitsu\n",
            "Fighting Style: Thunder Breathing\n",
            "Knows 1 technique(s) and has killed 4 demon(s)\n",
            "===================\n",
            "Name: Inosuke\n",
            "Fighting Style: Beast Breathing\n",
            "Knows 5 technique(s) and has killed 7 demon(s)\n",
            "===================\n",
            "Tanjiro, Zenitsu, Inosuke knows total 16 techniques\n",
            "They have killed total 21 demons\n"
          ]
        }
      ]
    },
    {
      "cell_type": "code",
      "source": [],
      "metadata": {
        "id": "IvQzxiU6xHQD"
      },
      "execution_count": null,
      "outputs": []
    },
    {
      "cell_type": "code",
      "source": [
        "# Task 6\n",
        "class box:\n",
        "  def __init__(self, lst):\n",
        "    print(\"Creating a Box!\")\n",
        "    self.height = lst[0]\n",
        "    self.width = lst[1]\n",
        "    self.breadth = lst[2]\n",
        "    self.volume = self.height * self.width * self.breadth\n",
        "    print(f'Volume of the box is {self.volume} cubic units.')\n",
        "print(\"Box 1\")\n",
        "b1 = box([10,10,10])\n",
        "print(\"=========================\")\n",
        "print(\"Height:\", b1.height)\n",
        "print(\"Width:\", b1.width)\n",
        "print(\"Breadth:\", b1.breadth)\n",
        "print(\"-------------------------\")\n",
        "print(\"Box 2\")\n",
        "b2 = box((30,10,10))\n",
        "print(\"=========================\")\n",
        "print(\"Height:\", b2.height)\n",
        "print(\"Width:\", b2.width)\n",
        "print(\"Breadth:\", b2.breadth)\n",
        "b2.height = 300\n",
        "print(\"Updating Box 2!\")\n",
        "print(\"Height:\", b2.height)\n",
        "print(\"Width:\", b2.width)\n",
        "print(\"Breadth:\", b2.breadth)\n",
        "print(\"-------------------------\")\n",
        "print(\"Box 3\")\n",
        "b3 = b2\n",
        "print(\"Height:\", b3.height)\n",
        "print(\"Width:\", b3.width)\n",
        "print(\"Breadth:\", b3.breadth)\n",
        "\n",
        "\n",
        "             "
      ],
      "metadata": {
        "colab": {
          "base_uri": "https://localhost:8080/"
        },
        "id": "oXAlkY802VXt",
        "outputId": "f274cadc-5ded-4b06-e022-63ed6d3ab4dc"
      },
      "execution_count": null,
      "outputs": [
        {
          "output_type": "stream",
          "name": "stdout",
          "text": [
            "Box 1\n",
            "Creating a Box!\n",
            "Volume of the box is 1000 cubic units.\n",
            "=========================\n",
            "Height: 10\n",
            "Width: 10\n",
            "Breadth: 10\n",
            "-------------------------\n",
            "Box 2\n",
            "Creating a Box!\n",
            "Volume of the box is 3000 cubic units.\n",
            "=========================\n",
            "Height: 30\n",
            "Width: 10\n",
            "Breadth: 10\n",
            "Updating Box 2!\n",
            "Height: 300\n",
            "Width: 10\n",
            "Breadth: 10\n",
            "-------------------------\n",
            "Box 3\n",
            "Height: 300\n",
            "Width: 10\n",
            "Breadth: 10\n"
          ]
        }
      ]
    },
    {
      "cell_type": "code",
      "source": [
        "# Task 7\n",
        "class buttons:\n",
        "  def __init__(self, word, spaces, border):\n",
        "    self.word = word\n",
        "    self.spaces = spaces\n",
        "    self.border = border\n",
        "    self.borderLen = 1 + spaces + len(word) + spaces + 1\n",
        "\n",
        "    print( f'{word} Button Specifications:' )\n",
        "    print( f'Button name: {word}' )\n",
        "    print( f'Number of the border characters for the top and the bottom: {self.borderLen}' )\n",
        "    print( f'Number of spaces between the left side border and the first character of the button name: {spaces}' )\n",
        "    print( f'Number of spaces between the right side border and the last character of the button name: {spaces}' )\n",
        "    print( f'Characters representing the borders: {border}' )\n",
        "\n",
        "    tmp = \"\"\n",
        "    for i in range(0, self.borderLen):\n",
        "      tmp += border\n",
        "    print(tmp)\n",
        "\n",
        "    tmp = border\n",
        "    for i in range(0, self.spaces):\n",
        "      tmp += \" \"\n",
        "    tmp += word \n",
        "    for i in range(0, self.spaces):\n",
        "      tmp += \" \"\n",
        "    tmp += border\n",
        "    print(tmp)\n",
        "\n",
        "    tmp = \"\"\n",
        "    for i in range(0, self.borderLen):\n",
        "      tmp += border\n",
        "    print(tmp)  \n",
        "      \n",
        "word = \"CANCEL\"\n",
        "spaces = 10\n",
        "border = 'x'\n",
        "b1 = buttons(word, spaces, border)  \n",
        "print(\"=======================================================\")\n",
        "b2 = buttons(\"Notify\",3, '!')\n",
        "print(\"=======================================================\")\n",
        "b3 = buttons('SAVE PROGRESS', 5, '$')"
      ],
      "metadata": {
        "colab": {
          "base_uri": "https://localhost:8080/"
        },
        "id": "GjkV1YpB5koa",
        "outputId": "3c81675a-6bba-4dfd-b041-ba576e7f2914"
      },
      "execution_count": null,
      "outputs": [
        {
          "output_type": "stream",
          "name": "stdout",
          "text": [
            "CANCEL Button Specifications:\n",
            "Button name: CANCEL\n",
            "Number of the border characters for the top and the bottom: 28\n",
            "Number of spaces between the left side border and the first character of the button name: 10\n",
            "Number of spaces between the right side border and the last character of the button name: 10\n",
            "Characters representing the borders: x\n",
            "xxxxxxxxxxxxxxxxxxxxxxxxxxxx\n",
            "x          CANCEL          x\n",
            "xxxxxxxxxxxxxxxxxxxxxxxxxxxx\n",
            "=======================================================\n",
            "Notify Button Specifications:\n",
            "Button name: Notify\n",
            "Number of the border characters for the top and the bottom: 14\n",
            "Number of spaces between the left side border and the first character of the button name: 3\n",
            "Number of spaces between the right side border and the last character of the button name: 3\n",
            "Characters representing the borders: !\n",
            "!!!!!!!!!!!!!!\n",
            "!   Notify   !\n",
            "!!!!!!!!!!!!!!\n",
            "=======================================================\n",
            "SAVE PROGRESS Button Specifications:\n",
            "Button name: SAVE PROGRESS\n",
            "Number of the border characters for the top and the bottom: 25\n",
            "Number of spaces between the left side border and the first character of the button name: 5\n",
            "Number of spaces between the right side border and the last character of the button name: 5\n",
            "Characters representing the borders: $\n",
            "$$$$$$$$$$$$$$$$$$$$$$$$$\n",
            "$     SAVE PROGRESS     $\n",
            "$$$$$$$$$$$$$$$$$$$$$$$$$\n"
          ]
        }
      ]
    },
    {
      "cell_type": "code",
      "source": [
        "# task 8\n",
        "class Calculator:\n",
        "  def __init__(self, first_value, operator, second_value):\n",
        "    self.first_value = first_value\n",
        "    self.operator = operator\n",
        "    self.second_value = second_value\n",
        "\n",
        "    print(\"Let’s Calculate!\")\n",
        "    print(f'Value 1: {first_value}')\n",
        "    print(f'Operator: {operator}')\n",
        "    print(f'Value 2: {second_value}')\n",
        "\n",
        "  def add(self):\n",
        "    print(f'Result: {self.first_value + self.second_value}')\n",
        "\n",
        "  def subtract(self):\n",
        "    print(f'Result: {self.first_value - self.second_value}')\n",
        "\n",
        "  def multiply(self):\n",
        "    print(f'Result: {self.first_value * self.second_value}')\n",
        "\n",
        "  def divide(self):\n",
        "    print(f'Result: {self.first_value / self.second_value}')\n",
        "\n",
        "first_value = int(input())\n",
        "operator = input()\n",
        "second_value = int(input())\n",
        "obj = Calculator(first_value, operator, second_value)\n",
        "if operator == \"+\":\n",
        "  obj.add()\n",
        "elif operator == \"-\":\n",
        "  obj.subtract()\n",
        "elif operator == \"*\":\n",
        "  obj.multiply()\n",
        "elif operator == \"/\":\n",
        "  obj.divide()            \n",
        "\n",
        "\n"
      ],
      "metadata": {
        "colab": {
          "base_uri": "https://localhost:8080/"
        },
        "id": "MyLwx6hFKeup",
        "outputId": "1de6b3e9-1c66-4ab5-8be0-435d966536da"
      },
      "execution_count": null,
      "outputs": [
        {
          "output_type": "stream",
          "name": "stdout",
          "text": [
            "1\n",
            "+\n",
            "3\n",
            "Let’s Calculate!\n",
            "Value 1: 1\n",
            "Operator: +\n",
            "Value 2: 3\n",
            "Result: 4\n"
          ]
        }
      ]
    },
    {
      "cell_type": "code",
      "source": [
        "# Task 9\n",
        "class Patient:\n",
        "  def __init__(self, name, age, weight, height):\n",
        "    self.name = name\n",
        "    self.age = age\n",
        "    self.weight = weight\n",
        "    self.height = height\n",
        "    self.BMI = (self.weight/(self.height/100)**2)\n",
        "\n",
        "  def printDetails(self):\n",
        "    print(f'Name: {self.name}\\nAge:{self.age}\\nWeight: {self.weight} kg\\nHeight: {self.height} cm\\nBMI: {self.BMI}')\n",
        "    \n",
        "p1 = Patient(\"A\", 55, 63.0, 158.0)\n",
        "p1.printDetails()\n",
        "print(\"====================\")\n",
        "p2 = Patient(\"B\", 53, 61.0, 149.0)\n",
        "p2.printDetails()\n"
      ],
      "metadata": {
        "colab": {
          "base_uri": "https://localhost:8080/"
        },
        "id": "cKdKVbU8xiFg",
        "outputId": "d7adc14a-47f4-4ef3-b882-5e8083945887"
      },
      "execution_count": null,
      "outputs": [
        {
          "output_type": "stream",
          "name": "stdout",
          "text": [
            "Name: A\n",
            "Age:55\n",
            "Weight: 63.0 kg\n",
            "Height: 158.0 cm\n",
            "BMI: 25.236340330075304\n",
            "====================\n",
            "Name: B\n",
            "Age:53\n",
            "Weight: 61.0 kg\n",
            "Height: 149.0 cm\n",
            "BMI: 27.476239809017613\n"
          ]
        }
      ]
    },
    {
      "cell_type": "code",
      "source": [
        "# 9 Extra \n",
        "class Patient:\n",
        "    \n",
        "    def __init__(self, name, age, weight, height):\n",
        "        self.name = name\n",
        "        self.age = age\n",
        "        self.weight = weight\n",
        "        self.height = height\n",
        "    \n",
        "    def calculateBMI(self):\n",
        "        height_in_meters = self.height / 100\n",
        "        bmi = self.weight / (height_in_meters ** 2)\n",
        "        return bmi\n",
        "    \n",
        "    def printDetails(self):\n",
        "        print(\"Name:\", self.name)\n",
        "        print(\"Age:\", self.age)\n",
        "        print(\"Weight:\", self.weight, \"kg\")\n",
        "        print(\"Height:\", self.height, \"cm\")\n",
        "        print(\"BMI:\", self.calculateBMI())\n",
        "\n",
        "p1 = Patient(\"A\", 55, 63.0, 158.0)\n",
        "p1.printDetails()\n",
        "print(\"====================\")\n",
        "p2 = Patient(\"B\", 53, 61.0, 149.0)\n",
        "p2.printDetails()\n",
        "\n"
      ],
      "metadata": {
        "colab": {
          "base_uri": "https://localhost:8080/"
        },
        "id": "o0PYYkAq8zaS",
        "outputId": "a05b890e-aaba-44f7-b27b-a7de3c9b6165"
      },
      "execution_count": null,
      "outputs": [
        {
          "output_type": "stream",
          "name": "stdout",
          "text": [
            "Name: A\n",
            "Age: 55\n",
            "Weight: 63.0 kg\n",
            "Height: 158.0 cm\n",
            "BMI: 25.236340330075304\n",
            "====================\n",
            "Name: B\n",
            "Age: 53\n",
            "Weight: 61.0 kg\n",
            "Height: 149.0 cm\n",
            "BMI: 27.476239809017613\n"
          ]
        }
      ]
    },
    {
      "cell_type": "code",
      "source": [
        "# Task 10\n",
        "class Vehicle:\n",
        "    def __init__(self):\n",
        "        self.x = 0\n",
        "        self.y = 0\n",
        "    \n",
        "    def moveUp(self):\n",
        "        self.y += 1\n",
        "    \n",
        "    def moveDown(self):\n",
        "        self.y -= 1\n",
        "    \n",
        "    def moveLeft(self):\n",
        "        self.x -= 1\n",
        "    \n",
        "    def moveRight(self):\n",
        "        self.x += 1\n",
        "    \n",
        "    def print_position(self):\n",
        "        print((self.x,self.y))\n",
        "\n",
        "car = Vehicle()\n",
        "car.print_position()\n",
        "car.moveUp()\n",
        "car.print_position()\n",
        "car.moveLeft()\n",
        "car.print_position()\n",
        "car.moveDown()\n",
        "car.print_position()\n",
        "car.moveRight()\n"
      ],
      "metadata": {
        "colab": {
          "base_uri": "https://localhost:8080/"
        },
        "id": "hGNFaRQeES8a",
        "outputId": "16cd2da3-31f8-41e2-bd83-14058b1059ba"
      },
      "execution_count": null,
      "outputs": [
        {
          "output_type": "stream",
          "name": "stdout",
          "text": [
            "(0, 0)\n",
            "(0, 1)\n",
            "(-1, 1)\n",
            "(-1, 0)\n"
          ]
        }
      ]
    },
    {
      "cell_type": "code",
      "source": [
        "# Task 11\n",
        "class Shape:\n",
        "  def __init__(self, name, base, height):\n",
        "    self.name = name\n",
        "    self.base = base\n",
        "    self.height = height\n",
        "\n",
        "  def area(self):\n",
        "    if self.name == \"Triangle\":\n",
        "      print(f'Area: {0.5 * self.base * self.height}')\n",
        "\n",
        "    elif self.name == \"Square\":\n",
        "      print(f'Area: {self.base * self.height}')\n",
        "\n",
        "    elif self.name == \"Rhombus\":\n",
        "      print(f'Area: {(self.base * self.height)/2}')\n",
        "\n",
        "    elif self.name == \"Rectangle\":\n",
        "      print(f'Area: {self.base * self.height}')\n",
        "\n",
        "    else:\n",
        "        print(\"Area: Shape unknown\")\n",
        "\n",
        "triangle = Shape(\"Triangle\",10,25)\n",
        "triangle.area()\n",
        "print(\"==========================\")\n",
        "square = Shape(\"Square\",10,10)\n",
        "square.area()\n",
        "print(\"==========================\")\n",
        "rhombus = Shape(\"Rhombus\",18,25)\n",
        "rhombus.area()\n",
        "print(\"==========================\")\n",
        "rectangle = Shape(\"Rectangle\",15,30)\n",
        "rectangle.area()\n",
        "print(\"==========================\")\n",
        "trapezium = Shape(\"Trapezium\",15,30)\n",
        "trapezium.area()"
      ],
      "metadata": {
        "colab": {
          "base_uri": "https://localhost:8080/"
        },
        "id": "gi8xgJUUHxkF",
        "outputId": "fbe74585-c7c0-4ed7-face-18ed5ba05a65"
      },
      "execution_count": null,
      "outputs": [
        {
          "output_type": "stream",
          "name": "stdout",
          "text": [
            "Area: 125.0\n",
            "==========================\n",
            "Area: 100\n",
            "==========================\n",
            "Area: 225.0\n",
            "==========================\n",
            "Area: 450\n",
            "==========================\n",
            "Area: Shape unknown\n",
            "Triangle\n"
          ]
        }
      ]
    },
    {
      "cell_type": "code",
      "source": [
        "# Task 12\n",
        "class Calculator:\n",
        "  def __init__(self):\n",
        "    print(\"Calculator is ready!\")\n",
        "    \n",
        "  def calculate(self, num1, num2, op):\n",
        "    self.num1 = num1\n",
        "    self.num2 = num2\n",
        "    self.op = op\n",
        "\n",
        "    if op == '+':\n",
        "      n = num1 + num2\n",
        "      return n\n",
        "    elif op == '-':\n",
        "      m = num1 - num2\n",
        "      return m\n",
        "    elif op == '*':\n",
        "      o = num1 * num2\n",
        "      return o\n",
        "    elif op == '/':\n",
        "      p = num1 / num2\n",
        "      return p     \n",
        "\n",
        "  def showCalculation(self):\n",
        "    print(f'{self.num1} {self.op} {self.num2} = {val}')  \n",
        "\n",
        "c1 = Calculator()\n",
        "print(\"==================\")\n",
        "val = c1.calculate(10, 20, '+')\n",
        "print(\"Returned value:\", val)\n",
        "c1.showCalculation()\n",
        "print(\"==================\")\n",
        "val = c1.calculate(val, 10, '-')\n",
        "print(\"Returned value:\", val)\n",
        "c1.showCalculation()\n",
        "print(\"==================\")\n",
        "val = c1.calculate(val, 5, '*')\n",
        "print(\"Returned value:\", val)\n",
        "c1.showCalculation()\n",
        "print(\"==================\")\n",
        "val = c1.calculate(val, 16, '/')\n",
        "print(\"Returned value:\", val)\n",
        "c1.showCalculation()"
      ],
      "metadata": {
        "colab": {
          "base_uri": "https://localhost:8080/"
        },
        "id": "pJpRhyyKXD8j",
        "outputId": "94bf8deb-6b93-42b9-fa3a-7ce1e936b531"
      },
      "execution_count": null,
      "outputs": [
        {
          "output_type": "stream",
          "name": "stdout",
          "text": [
            "Calculator is ready!\n",
            "==================\n",
            "Returned value: 30\n",
            "10 + 20 = 30\n",
            "==================\n",
            "Returned value: 20\n",
            "30 - 10 = 20\n",
            "==================\n",
            "Returned value: 100\n",
            "20 * 5 = 100\n",
            "==================\n",
            "Returned value: 6.25\n",
            "100 / 16 = 6.25\n"
          ]
        }
      ]
    },
    {
      "cell_type": "code",
      "source": [
        "# Task 13\n",
        "class Programmer:\n",
        "  def __init__(self, name, language, ex):\n",
        "    print(\"Horray! A new programmer is born\")\n",
        "    self.name = name\n",
        "    self.language = language\n",
        "    self.ex = ex\n",
        "\n",
        "  def addExp(self, ex):\n",
        "    print(\"Updating experience of Jon Snow\")\n",
        "    self.beforeEx = 4\n",
        "    self.ex = self.beforeEx + ex\n",
        "\n",
        "  def printDetails(self):\n",
        "    print(f'Name: {self.name}\\nLanguage: {self.language}\\nExperience: {self.ex} years.')\n",
        "\n",
        "p1 = Programmer(\"Ethen Hunt\", \"Java\", 10)\n",
        "p1.printDetails()\n",
        "print('--------------------------')\n",
        "p2 = Programmer(\"James Bond\", \"C++\", 7)\n",
        "p2.printDetails()\n",
        "print('--------------------------')\n",
        "p3 = Programmer(\"Jon Snow\", \"Python\", 4)\n",
        "p3.printDetails()\n",
        "p3.addExp(5)\n",
        "p3.printDetails()"
      ],
      "metadata": {
        "colab": {
          "base_uri": "https://localhost:8080/"
        },
        "id": "SxSGTgkKTpv9",
        "outputId": "234df559-3c0d-4e25-8066-ca98e56ba08b"
      },
      "execution_count": 28,
      "outputs": [
        {
          "output_type": "stream",
          "name": "stdout",
          "text": [
            "Horray! A new programmer is born\n",
            "Name: Ethen Hunt\n",
            "Language: Java\n",
            "Experience: 10 years.\n",
            "--------------------------\n",
            "Horray! A new programmer is born\n",
            "Name: James Bond\n",
            "Language: C++\n",
            "Experience: 7 years.\n",
            "--------------------------\n",
            "Horray! A new programmer is born\n",
            "Name: Jon Snow\n",
            "Language: Python\n",
            "Experience: 4 years.\n",
            "Updating experience of Jon Snow\n",
            "Name: Jon Snow\n",
            "Language: Python\n",
            "Experience: 9 years.\n"
          ]
        }
      ]
    }
  ]
}